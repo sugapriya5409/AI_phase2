{
  "nbformat": 4,
  "nbformat_minor": 0,
  "metadata": {
    "colab": {
      "private_outputs": true,
      "provenance": [],
      "authorship_tag": "ABX9TyMYfYuiVfyIPmoQyeelDY0Z",
      "include_colab_link": true
    },
    "kernelspec": {
      "name": "python3",
      "display_name": "Python 3"
    },
    "language_info": {
      "name": "python"
    }
  },
  "cells": [
    {
      "cell_type": "markdown",
      "metadata": {
        "id": "view-in-github",
        "colab_type": "text"
      },
      "source": [
        "<a href=\"https://colab.research.google.com/github/sugapriya5409/AI_phase2/blob/main/AI_phase2.ipynb\" target=\"_parent\"><img src=\"https://colab.research.google.com/assets/colab-badge.svg\" alt=\"Open In Colab\"/></a>"
      ]
    },
    {
      "cell_type": "code",
      "execution_count": null,
      "metadata": {
        "id": "Mjr8y7CZfRkE"
      },
      "outputs": [],
      "source": [
        "import pandas as pd\n",
        "import numpy as np\n",
        "import seaborn as sns\n",
        "import matplotlib.pyplot as plt\n",
        "from sklearn.model_selection import train_test_split\n",
        "from sklearn.preprocessing import StandardScaler\n",
        "from sklearn.metrics import r2_score, mean_absolute_error,mean_squared_error\n",
        "import xgboost as xg\n",
        "\n",
        "%matplotlib inline\n",
        "import warnings\n",
        "warnings.filterwarnings(\"ignore\")"
      ]
    },
    {
      "cell_type": "code",
      "source": [
        "dataset = pd.read_csv('/content/USA_Housing.csv')"
      ],
      "metadata": {
        "id": "xUegu6HWfogP"
      },
      "execution_count": null,
      "outputs": []
    },
    {
      "cell_type": "code",
      "source": [
        "dataset\n"
      ],
      "metadata": {
        "id": "8A2x6XmkgO3l"
      },
      "execution_count": null,
      "outputs": []
    },
    {
      "cell_type": "code",
      "source": [
        "dataset.info()"
      ],
      "metadata": {
        "id": "KzI8RTq1gThD"
      },
      "execution_count": null,
      "outputs": []
    },
    {
      "cell_type": "code",
      "source": [
        "dataset.describe()"
      ],
      "metadata": {
        "id": "9lEuZZ09gYNY"
      },
      "execution_count": null,
      "outputs": []
    },
    {
      "cell_type": "code",
      "source": [
        "dataset.columns"
      ],
      "metadata": {
        "id": "P_I0oS4ygd5g"
      },
      "execution_count": null,
      "outputs": []
    },
    {
      "cell_type": "markdown",
      "source": [
        "Visualisation and Pre-Processing of Data\n"
      ],
      "metadata": {
        "id": "7VkPL1lcgi1W"
      }
    },
    {
      "cell_type": "code",
      "source": [
        "sns.histplot(dataset, x='Price', bins=50, color='y')"
      ],
      "metadata": {
        "id": "PmCZLQR2gmxJ"
      },
      "execution_count": null,
      "outputs": []
    },
    {
      "cell_type": "code",
      "source": [
        "sns.boxplot(dataset, x='Price',  palette='Blues')"
      ],
      "metadata": {
        "id": "EJUKa3LwgpAv"
      },
      "execution_count": null,
      "outputs": []
    },
    {
      "cell_type": "code",
      "source": [
        "sns.jointplot(dataset, x='Avg. Area House Age', y='Price', kind='hex')"
      ],
      "metadata": {
        "id": "AVrmsBvFgsL6"
      },
      "execution_count": null,
      "outputs": []
    },
    {
      "cell_type": "code",
      "source": [
        "sns.jointplot(dataset, x='Avg. Area Income', y='Price')"
      ],
      "metadata": {
        "id": "MYpnc923gyCK"
      },
      "execution_count": null,
      "outputs": []
    },
    {
      "cell_type": "code",
      "source": [
        "plt.figure(figsize=(12,8))\n",
        "sns.pairplot(dataset)"
      ],
      "metadata": {
        "id": "QP43LRfpg1Gb"
      },
      "execution_count": null,
      "outputs": []
    },
    {
      "cell_type": "code",
      "source": [
        "dataset.hist(figsize=(10,8))"
      ],
      "metadata": {
        "id": "CROu-fF4g4j1"
      },
      "execution_count": null,
      "outputs": []
    },
    {
      "cell_type": "markdown",
      "source": [
        "Visualising Correlation\n"
      ],
      "metadata": {
        "id": "mxZCf_s8hAFy"
      }
    },
    {
      "cell_type": "code",
      "source": [
        "dataset.corr(numeric_only=True)"
      ],
      "metadata": {
        "id": "LAaXkhQ-hIdz"
      },
      "execution_count": null,
      "outputs": []
    },
    {
      "cell_type": "code",
      "source": [
        "plt.figure(figsize=(10,5))\n",
        "sns.heatmap(dataset.corr(numeric_only = True), annot=True)"
      ],
      "metadata": {
        "id": "4lODjrKihLCs"
      },
      "execution_count": null,
      "outputs": []
    },
    {
      "cell_type": "markdown",
      "source": [
        "Dividing Dataset in to features and target variable\n"
      ],
      "metadata": {
        "id": "5ul1CmQ5hRRn"
      }
    },
    {
      "cell_type": "code",
      "source": [
        "X = dataset[['Avg. Area Income', 'Avg. Area House Age', 'Avg. Area Number of Rooms',\n",
        "       'Avg. Area Number of Bedrooms', 'Area Population']]\n",
        "Y = dataset['Price']"
      ],
      "metadata": {
        "id": "DVVt93nchN0L"
      },
      "execution_count": null,
      "outputs": []
    },
    {
      "cell_type": "markdown",
      "source": [
        "Using Train Test Split\n"
      ],
      "metadata": {
        "id": "YNihSJCzhZP-"
      }
    },
    {
      "cell_type": "code",
      "source": [
        "X_train, X_test, Y_train, Y_test = train_test_split(X, Y, test_size=0.2, random_state=101)"
      ],
      "metadata": {
        "id": "D_1uCrFChVug"
      },
      "execution_count": null,
      "outputs": []
    },
    {
      "cell_type": "code",
      "source": [
        "Y_train.head()"
      ],
      "metadata": {
        "id": "0SMZVGEMhc6B"
      },
      "execution_count": null,
      "outputs": []
    },
    {
      "cell_type": "code",
      "source": [
        "\n",
        "Y_train.shape"
      ],
      "metadata": {
        "id": "5iuEicgDhfWW"
      },
      "execution_count": null,
      "outputs": []
    },
    {
      "cell_type": "code",
      "source": [
        "Y_test.head()"
      ],
      "metadata": {
        "id": "iANmjVq0hksM"
      },
      "execution_count": null,
      "outputs": []
    },
    {
      "cell_type": "code",
      "source": [
        "Y_test.shape"
      ],
      "metadata": {
        "id": "-5xrKBJ9hnLO"
      },
      "execution_count": null,
      "outputs": []
    },
    {
      "cell_type": "markdown",
      "source": [
        "Standardizing the data\n"
      ],
      "metadata": {
        "id": "9woNuIAshsaP"
      }
    },
    {
      "cell_type": "code",
      "source": [
        "sc = StandardScaler()\n",
        "X_train_scal = sc.fit_transform(X_train)\n",
        "X_test_scal = sc.fit_transform(X_test)"
      ],
      "metadata": {
        "id": "GHUE4RbshpZr"
      },
      "execution_count": null,
      "outputs": []
    },
    {
      "cell_type": "markdown",
      "source": [
        "Model Building and Evaluation-XG Boost\n"
      ],
      "metadata": {
        "id": "a6JCHK0EhzLe"
      }
    },
    {
      "cell_type": "code",
      "source": [
        "model_xg = xg.XGBRegressor()"
      ],
      "metadata": {
        "id": "N2CUlch-hv43"
      },
      "execution_count": null,
      "outputs": []
    },
    {
      "cell_type": "code",
      "source": [
        "model_xg.fit(X_train_scal, Y_train)"
      ],
      "metadata": {
        "id": "kC6W2Vknh9xI"
      },
      "execution_count": null,
      "outputs": []
    },
    {
      "cell_type": "markdown",
      "source": [
        "Predicting Prices"
      ],
      "metadata": {
        "id": "qFTM8KMsiEQV"
      }
    },
    {
      "cell_type": "code",
      "source": [
        "Prediction = model_xg.predict(X_test_scal)"
      ],
      "metadata": {
        "id": "6n1GAZgvh_v1"
      },
      "execution_count": null,
      "outputs": []
    },
    {
      "cell_type": "markdown",
      "source": [
        "Evaluation of Predicted Data\n"
      ],
      "metadata": {
        "id": "UwDq872giNGT"
      }
    },
    {
      "cell_type": "code",
      "source": [
        " plt.figure(figsize=(12,6))\n",
        " plt.plot(np.arange(len(Y_test)), Y_test, label='Actual Trend')\n",
        " plt.plot(np.arange(len(Y_test)), Prediction5, label='Predicted Trend')\n",
        " plt.xlabel('Data')\n",
        " plt.ylabel('Trend')\n",
        " plt.legend()\n",
        " plt.title('Actual vs Predicted')"
      ],
      "metadata": {
        "id": "K_A2Zv9oiHHI"
      },
      "execution_count": null,
      "outputs": []
    },
    {
      "cell_type": "code",
      "source": [
        "sns.histplot((Y_test-Prediction), bins=50)"
      ],
      "metadata": {
        "id": "e9V8mpTFimZH"
      },
      "execution_count": null,
      "outputs": []
    }
  ]
}